{
 "cells": [
  {
   "cell_type": "code",
   "execution_count": null,
   "metadata": {},
   "outputs": [],
   "source": [
    "import torch\n",
    "import torch.nn as nn\n",
    "import torch.nn.functional as funcs\n",
    "import torch.optim as optim\n",
    "import pandas as pd\n",
    "from DataCleaner import *\n",
    "from loader import *\n",
    "from time import time\n",
    "import torch.nn.functional as F\n",
    "import matplotlib.pyplot as plt"
   ]
  },
  {
   "cell_type": "code",
   "execution_count": null,
   "metadata": {},
   "outputs": [],
   "source": [
    "if torch.cuda.is_available():\n",
    "    device = \"cuda:0\"\n",
    "else:\n",
    "    device = \"cpu\"\n",
    "device"
   ]
  },
  {
   "cell_type": "code",
   "execution_count": null,
   "metadata": {},
   "outputs": [],
   "source": [
    "VOCAB_SIZE = 10000\n",
    "BATCH_SIZE = 256\n",
    "MAX_LENGTH = 80\n",
    "EMBEDDING_DIM = 300\n",
    "RNN_UNITS = 64\n",
    "OOV_TOKEN = '<OOV>'\n",
    "BI_RNN = True\n",
    "RNN_LAYERS = 2"
   ]
  },
  {
   "cell_type": "code",
   "execution_count": null,
   "metadata": {
    "scrolled": true
   },
   "outputs": [],
   "source": [
    "start_time = time()\n",
    "project_path = '../../NLP/Kaggle/QuoraQuestionPairs/input/{}.csv'\n",
    "train_data = pd.read_csv(project_path.format('train'), index_col=\"id\")"
   ]
  },
  {
   "cell_type": "code",
   "execution_count": null,
   "metadata": {},
   "outputs": [],
   "source": [
    "train_dataset = QuoraDataset(train, max_length=MAX_LENGTH, vocab_size=VOCAB_SIZE, oov=OOV_TOKEN)"
   ]
  },
  {
   "cell_type": "code",
   "execution_count": null,
   "metadata": {},
   "outputs": [],
   "source": [
    "train_data_loader = torch.utils.data.DataLoader(train_dataset, batch_size=BATCH_SIZE, \n",
    "                                          shuffle=True, collate_fn=generate_batch, num_workers=4)"
   ]
  },
  {
   "cell_type": "code",
   "execution_count": null,
   "metadata": {},
   "outputs": [],
   "source": [
    "class Net(nn.Module):\n",
    "    # defining the structure of the network\n",
    "    def __init__(self):\n",
    "        super(Net, self).__init__()\n",
    "        self.embedding = nn.Embedding(VOCAB_SIZE + 1, EMBEDDING_DIM)\n",
    "        self.rnn = nn.GRU(EMBEDDING_DIM, RNN_UNITS, bidirectional=BI_RNN, \n",
    "                          num_layers=RNN_LAYERS, batch_first=True)\n",
    "        self.lin1 = nn.Linear(RNN_UNITS * 2, 96)\n",
    "        self.lin2 = nn.Linear(96, 28)\n",
    "        self.out = nn.Linear(28, 1)\n",
    "\n",
    "    # defining steps in forward pass\n",
    "    def forward(self, x1, x2):\n",
    "        try:\n",
    "            x1 = self.embedding(x1)\n",
    "            x2 = self.embedding(x2)\n",
    "            x1 = self.rnn(x1)[1]\n",
    "            x1 = x1.view(-1, x1.size()[1], x1.size()[2]).sum(dim=0)\n",
    "            x2 = self.rnn(x2)[1]\n",
    "            x2 = x2.view(-1, x2.size()[1], x2.size()[2]).sum(dim=0)\n",
    "            lin = self.lin1(torch.cat((x1, x2), 1))\n",
    "            lin = torch.relu(self.lin2(lin))\n",
    "            pred = self.out(lin)\n",
    "            return pred\n",
    "        except IndexError:\n",
    "            print(x1.max(), x2.max())"
   ]
  },
  {
   "cell_type": "code",
   "execution_count": null,
   "metadata": {
    "scrolled": false
   },
   "outputs": [],
   "source": [
    "net = Net()\n",
    "print(net)\n",
    "\n",
    "params = list(net.named_parameters())\n",
    "print(len(params))\n",
    "for name, param in params:\n",
    "    print('{!r:30} {}'.format(name, param.size()))"
   ]
  },
  {
   "cell_type": "code",
   "execution_count": null,
   "metadata": {},
   "outputs": [],
   "source": [
    "def fit():\n",
    "    losses = []\n",
    "    accs = []\n",
    "    for epoch in range(5):\n",
    "        loss_vals = []\n",
    "        acc_vals = []\n",
    "        for i, batch in enumerate(train_data_loader):\n",
    "            optimizer.zero_grad()\n",
    "            q1 = batch[0].to(device)\n",
    "            q2 = batch[1].to(device)\n",
    "            label = batch[2].view(-1, 1).to(dtype=torch.float, device=device)\n",
    "            pred = net(q1, q2).to(dtype=torch.float, device=device)\n",
    "            loss = loss_fn(pred, label)\n",
    "            if i % 10 == 9:\n",
    "                loss_vals.append(loss.item())\n",
    "                acc_vals.append(accuracy(pred,label))\n",
    "            loss.backward()\n",
    "            optimizer.step()\n",
    "        losses.append(loss_vals)\n",
    "        accs.append(acc_vals)\n",
    "    return losses, accs"
   ]
  },
  {
   "cell_type": "code",
   "execution_count": null,
   "metadata": {},
   "outputs": [],
   "source": [
    "optimizer = optim.Adam(net.parameters())\n",
    "loss_fn = F.binary_cross_entropy_with_logits\n",
    "net.to(device)"
   ]
  },
  {
   "cell_type": "code",
   "execution_count": null,
   "metadata": {},
   "outputs": [],
   "source": [
    "def accuracy(prob, target):\n",
    "    with torch.no_grad():\n",
    "        prob = torch.sigmoid(prob)\n",
    "        n = target.size()[0]\n",
    "        pred = (prob > 0.5).float()\n",
    "        c = (pred == target).sum().item()\n",
    "        return c/n"
   ]
  },
  {
   "cell_type": "code",
   "execution_count": null,
   "metadata": {
    "scrolled": true
   },
   "outputs": [],
   "source": [
    "losses, acs = fit()"
   ]
  },
  {
   "cell_type": "code",
   "execution_count": null,
   "metadata": {},
   "outputs": [],
   "source": [
    "plt.figure(figsize=(15,10))\n",
    "plt.subplot(211)\n",
    "for epoch, loss in enumerate(losses):\n",
    "    plt.plot(list(range(len(loss))), loss, label='epoch {}'.format(epoch), alpha=0.4+epoch*0.1,linewidth=2 )\n",
    "    plt.ylabel('loss')\n",
    "plt.subplot(212)\n",
    "for epoch, acc in enumerate(acs):\n",
    "    plt.plot(list(range(len(acc))), acc, label='epoch {}'.format(epoch), alpha=0.4+epoch*0.1, linewidth=2)\n",
    "    plt.ylabel('accuracy')\n",
    "plt.legend()\n",
    "plt.xlabel('batch no')\n",
    "plt.show()"
   ]
  },
  {
   "cell_type": "code",
   "execution_count": null,
   "metadata": {},
   "outputs": [],
   "source": [
    "print(torch.cuda.memory_summary())"
   ]
  },
  {
   "cell_type": "code",
   "execution_count": null,
   "metadata": {},
   "outputs": [],
   "source": [
    "torch.cuda.empty_cache()"
   ]
  },
  {
   "cell_type": "code",
   "execution_count": null,
   "metadata": {},
   "outputs": [],
   "source": []
  }
 ],
 "metadata": {
  "kernelspec": {
   "display_name": "Python 3",
   "language": "python",
   "name": "python3"
  },
  "language_info": {
   "codemirror_mode": {
    "name": "ipython",
    "version": 3
   },
   "file_extension": ".py",
   "mimetype": "text/x-python",
   "name": "python",
   "nbconvert_exporter": "python",
   "pygments_lexer": "ipython3",
   "version": "3.8.3"
  }
 },
 "nbformat": 4,
 "nbformat_minor": 4
}
